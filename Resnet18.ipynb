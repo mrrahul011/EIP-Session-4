{
  "nbformat": 4,
  "nbformat_minor": 0,
  "metadata": {
    "colab": {
      "name": "Resnet18V2_withoutcutout.ipynb",
      "provenance": [],
      "collapsed_sections": [],
      "include_colab_link": true
    },
    "kernelspec": {
      "name": "python3",
      "display_name": "Python 3"
    },
    "accelerator": "GPU"
  },
  "cells": [
    {
      "cell_type": "markdown",
      "metadata": {
        "id": "view-in-github",
        "colab_type": "text"
      },
      "source": [
        "<a href=\"https://colab.research.google.com/github/mrrahul011/EIP-Session-4/blob/master/Resnet18.ipynb\" target=\"_parent\"><img src=\"https://colab.research.google.com/assets/colab-badge.svg\" alt=\"Open In Colab\"/></a>"
      ]
    },
    {
      "cell_type": "code",
      "metadata": {
        "id": "ixJKPZ8RfuVn",
        "colab_type": "code",
        "outputId": "ad9b3ec0-9116-4092-990b-19deee27fcc5",
        "colab": {
          "base_uri": "https://localhost:8080/",
          "height": 80
        }
      },
      "source": [
        "from __future__ import print_function\n",
        "import keras\n",
        "from keras.layers import Dense, Conv2D, BatchNormalization, Activation\n",
        "from keras.layers import MaxPooling2D, AveragePooling2D, Input, Flatten,GlobalAveragePooling2D\n",
        "from keras.optimizers import Adam\n",
        "from keras.callbacks import ModelCheckpoint, ReduceLROnPlateau\n",
        "from keras.preprocessing.image import ImageDataGenerator\n",
        "from keras.regularizers import l2\n",
        "from keras import backend as K\n",
        "from keras.models import Model\n",
        "from keras.datasets import cifar10\n",
        "import numpy as np\n",
        "import os"
      ],
      "execution_count": 0,
      "outputs": [
        {
          "output_type": "stream",
          "text": [
            "Using TensorFlow backend.\n"
          ],
          "name": "stderr"
        },
        {
          "output_type": "display_data",
          "data": {
            "text/html": [
              "<p style=\"color: red;\">\n",
              "The default version of TensorFlow in Colab will soon switch to TensorFlow 2.x.<br>\n",
              "We recommend you <a href=\"https://www.tensorflow.org/guide/migrate\" target=\"_blank\">upgrade</a> now \n",
              "or ensure your notebook will continue to use TensorFlow 1.x via the <code>%tensorflow_version 1.x</code> magic:\n",
              "<a href=\"https://colab.research.google.com/notebooks/tensorflow_version.ipynb\" target=\"_blank\">more info</a>.</p>\n"
            ],
            "text/plain": [
              "<IPython.core.display.HTML object>"
            ]
          },
          "metadata": {
            "tags": []
          }
        }
      ]
    },
    {
      "cell_type": "code",
      "metadata": {
        "id": "nsnWiVHxf_dy",
        "colab_type": "code",
        "colab": {}
      },
      "source": [
        "# Training params.\n",
        "batch_size = 32\n",
        "epochs = 50\n",
        "data_augmentation = True\n",
        "#random_erasing = True\n",
        "#pixel_level = False"
      ],
      "execution_count": 0,
      "outputs": []
    },
    {
      "cell_type": "code",
      "metadata": {
        "id": "4Lhm3XXwgD3J",
        "colab_type": "code",
        "colab": {}
      },
      "source": [
        "# Network architecture params.\n",
        "num_classes = 10\n",
        "num_filters = 16\n",
        "num_blocks = 4\n",
        "num_sub_blocks = 2\n",
        "use_max_pool = False"
      ],
      "execution_count": 0,
      "outputs": []
    },
    {
      "cell_type": "code",
      "metadata": {
        "id": "Mzeyr1KogIGP",
        "colab_type": "code",
        "outputId": "91ec826b-f526-469c-debe-33e0d942d73d",
        "colab": {
          "base_uri": "https://localhost:8080/",
          "height": 51
        }
      },
      "source": [
        "# Load the CIFAR10 data.\n",
        "(x_train, y_train), (x_test, y_test) = cifar10.load_data()"
      ],
      "execution_count": 0,
      "outputs": [
        {
          "output_type": "stream",
          "text": [
            "Downloading data from https://www.cs.toronto.edu/~kriz/cifar-10-python.tar.gz\n",
            "170500096/170498071 [==============================] - 2s 0us/step\n"
          ],
          "name": "stdout"
        }
      ]
    },
    {
      "cell_type": "code",
      "metadata": {
        "id": "zjW2saRegLu_",
        "colab_type": "code",
        "outputId": "0fe6a3a7-e570-48a9-9601-4197eb7c90d7",
        "colab": {
          "base_uri": "https://localhost:8080/",
          "height": 85
        }
      },
      "source": [
        "# Input image dimensions.\n",
        "# We assume data format \"channels_last\".\n",
        "img_rows = x_train.shape[1]\n",
        "img_cols = x_train.shape[2]\n",
        "channels = x_train.shape[3]\n",
        "\n",
        "if K.image_data_format() == 'channels_first':\n",
        "    img_rows = x_train.shape[2]\n",
        "    img_cols = x_train.shape[3]\n",
        "    channels = x_train.shape[1]\n",
        "    x_train = x_train.reshape(x_train.shape[0], channels, img_rows, img_cols)\n",
        "    x_test = x_test.reshape(x_test.shape[0], channels, img_rows, img_cols)\n",
        "    input_shape = (channels, img_rows, img_cols)\n",
        "else:\n",
        "    img_rows = x_train.shape[1]\n",
        "    img_cols = x_train.shape[2]\n",
        "    channels = x_train.shape[3]\n",
        "    x_train = x_train.reshape(x_train.shape[0], img_rows, img_cols, channels)\n",
        "    x_test = x_test.reshape(x_test.shape[0], img_rows, img_cols, channels)\n",
        "    input_shape = (img_rows, img_cols, channels)\n",
        "\n",
        "# Normalize data.\n",
        "x_train = x_train.astype('float32') / 255\n",
        "x_test = x_test.astype('float32') / 255\n",
        "print('x_train shape:', x_train.shape)\n",
        "print(x_train.shape[0], 'train samples')\n",
        "print(x_test.shape[0], 'test samples')\n",
        "print('y_train shape:', y_train.shape)"
      ],
      "execution_count": 0,
      "outputs": [
        {
          "output_type": "stream",
          "text": [
            "x_train shape: (50000, 32, 32, 3)\n",
            "50000 train samples\n",
            "10000 test samples\n",
            "y_train shape: (50000, 1)\n"
          ],
          "name": "stdout"
        }
      ]
    },
    {
      "cell_type": "code",
      "metadata": {
        "id": "LQ3tPD8mgQSX",
        "colab_type": "code",
        "colab": {}
      },
      "source": [
        "# Convert class vectors to binary class matrices.\n",
        "y_train = keras.utils.to_categorical(y_train, num_classes)\n",
        "y_test = keras.utils.to_categorical(y_test, num_classes)"
      ],
      "execution_count": 0,
      "outputs": []
    },
    {
      "cell_type": "code",
      "metadata": {
        "id": "gcxIzJMXgSf4",
        "colab_type": "code",
        "outputId": "0dfdc513-d28c-4b81-f5c9-3d5882b10118",
        "colab": {
          "base_uri": "https://localhost:8080/",
          "height": 1000
        }
      },
      "source": [
        "# Network architecture params.\n",
        "num_classes = 10\n",
        "num_filters = 16\n",
        "num_blocks = 4\n",
        "num_sub_blocks = 2\n",
        "use_max_pool = False\n",
        "\n",
        "# Start model definition.\n",
        "inputs = Input(shape=input_shape)\n",
        "x = Conv2D(num_filters,\n",
        "           kernel_size=3,\n",
        "           padding='same',\n",
        "           strides=1,\n",
        "           kernel_initializer='he_normal',\n",
        "           kernel_regularizer=l2(1e-4))(inputs)\n",
        "x = BatchNormalization()(x)\n",
        "x = Activation('relu')(x)\n",
        "\n",
        "# Orig paper uses max pool after 1st conv.\n",
        "# Reaches up 87% acc if use_max_pool = True.\n",
        "# Cifar10 images are already too small at 32x32 to be maxpooled. So, we skip.\n",
        "#if use_max_pool:\n",
        "#    x = MaxPooling2D(pool_size=3, strides=2, padding='same')(x)\n",
        "#    num_blocks = 3\n",
        "\n",
        "# Instantiate convolutional base (stack of blocks).\n",
        "for i in range(num_blocks):\n",
        "    for j in range(num_sub_blocks-1):\n",
        "        strides = 1\n",
        "        #is_first_layer_but_not_first_block = j == 0 and i > 0\n",
        "        #if is_first_layer_but_not_first_block:\n",
        "        if (j == 0 and i>0):\n",
        "            strides = 2\n",
        "        y = Conv2D(num_filters,\n",
        "                   kernel_size=3,\n",
        "                   padding='same',\n",
        "                   strides=strides,\n",
        "                   kernel_initializer='he_normal',\n",
        "                   kernel_regularizer=l2(1e-4))(x)\n",
        "        y = BatchNormalization()(y)\n",
        "        y = Activation('relu')(y)\n",
        "        y = Conv2D(num_filters,\n",
        "                   kernel_size=3,\n",
        "                   padding='same',\n",
        "                   kernel_initializer='he_normal',\n",
        "                   kernel_regularizer=l2(1e-4))(y)\n",
        "        y = BatchNormalization()(y)\n",
        "        y = Activation('relu')(y)\n",
        "\n",
        "        #if is_first_layer_but_not_first_block:\n",
        "        if (j == 0 and i>0):\n",
        "            x = Conv2D(num_filters,\n",
        "                       kernel_size=1,\n",
        "                       padding='same',\n",
        "                       strides=2,\n",
        "                       kernel_initializer='he_normal',\n",
        "                       kernel_regularizer=l2(1e-4))(x)\n",
        "        x = keras.layers.add([x, y])\n",
        "        #x = Activation('relu')(x)\n",
        "\n",
        "    num_filters = 2 * num_filters\n",
        "\n",
        "# Add classifier on top.\n",
        "x = Conv2D(10,1)(x)\n",
        "x = GlobalAveragePooling2D()(x)\n",
        "#x = AveragePooling2D(pool_size=4)(x)\n",
        "#y = Flatten()(x)\n",
        "outputs = Dense(num_classes,\n",
        "                activation='softmax',\n",
        "                kernel_initializer='he_normal')(x)\n",
        "# Instantiate and compile model.\n",
        "model = Model(inputs=inputs, outputs=outputs)\n",
        "model.compile(loss='categorical_crossentropy',\n",
        "              optimizer=Adam(lr = 0.001),\n",
        "              metrics=['accuracy'])\n",
        "model.summary()"
      ],
      "execution_count": 0,
      "outputs": [
        {
          "output_type": "stream",
          "text": [
            "Model: \"model_2\"\n",
            "__________________________________________________________________________________________________\n",
            "Layer (type)                    Output Shape         Param #     Connected to                     \n",
            "==================================================================================================\n",
            "input_2 (InputLayer)            (None, 32, 32, 3)    0                                            \n",
            "__________________________________________________________________________________________________\n",
            "conv2d_14 (Conv2D)              (None, 32, 32, 16)   448         input_2[0][0]                    \n",
            "__________________________________________________________________________________________________\n",
            "batch_normalization_10 (BatchNo (None, 32, 32, 16)   64          conv2d_14[0][0]                  \n",
            "__________________________________________________________________________________________________\n",
            "activation_10 (Activation)      (None, 32, 32, 16)   0           batch_normalization_10[0][0]     \n",
            "__________________________________________________________________________________________________\n",
            "conv2d_15 (Conv2D)              (None, 32, 32, 16)   2320        activation_10[0][0]              \n",
            "__________________________________________________________________________________________________\n",
            "batch_normalization_11 (BatchNo (None, 32, 32, 16)   64          conv2d_15[0][0]                  \n",
            "__________________________________________________________________________________________________\n",
            "activation_11 (Activation)      (None, 32, 32, 16)   0           batch_normalization_11[0][0]     \n",
            "__________________________________________________________________________________________________\n",
            "conv2d_16 (Conv2D)              (None, 32, 32, 16)   2320        activation_11[0][0]              \n",
            "__________________________________________________________________________________________________\n",
            "batch_normalization_12 (BatchNo (None, 32, 32, 16)   64          conv2d_16[0][0]                  \n",
            "__________________________________________________________________________________________________\n",
            "activation_12 (Activation)      (None, 32, 32, 16)   0           batch_normalization_12[0][0]     \n",
            "__________________________________________________________________________________________________\n",
            "add_5 (Add)                     (None, 32, 32, 16)   0           activation_10[0][0]              \n",
            "                                                                 activation_12[0][0]              \n",
            "__________________________________________________________________________________________________\n",
            "conv2d_17 (Conv2D)              (None, 16, 16, 32)   4640        add_5[0][0]                      \n",
            "__________________________________________________________________________________________________\n",
            "batch_normalization_13 (BatchNo (None, 16, 16, 32)   128         conv2d_17[0][0]                  \n",
            "__________________________________________________________________________________________________\n",
            "activation_13 (Activation)      (None, 16, 16, 32)   0           batch_normalization_13[0][0]     \n",
            "__________________________________________________________________________________________________\n",
            "conv2d_18 (Conv2D)              (None, 16, 16, 32)   9248        activation_13[0][0]              \n",
            "__________________________________________________________________________________________________\n",
            "batch_normalization_14 (BatchNo (None, 16, 16, 32)   128         conv2d_18[0][0]                  \n",
            "__________________________________________________________________________________________________\n",
            "conv2d_19 (Conv2D)              (None, 16, 16, 32)   544         add_5[0][0]                      \n",
            "__________________________________________________________________________________________________\n",
            "activation_14 (Activation)      (None, 16, 16, 32)   0           batch_normalization_14[0][0]     \n",
            "__________________________________________________________________________________________________\n",
            "add_6 (Add)                     (None, 16, 16, 32)   0           conv2d_19[0][0]                  \n",
            "                                                                 activation_14[0][0]              \n",
            "__________________________________________________________________________________________________\n",
            "conv2d_20 (Conv2D)              (None, 8, 8, 64)     18496       add_6[0][0]                      \n",
            "__________________________________________________________________________________________________\n",
            "batch_normalization_15 (BatchNo (None, 8, 8, 64)     256         conv2d_20[0][0]                  \n",
            "__________________________________________________________________________________________________\n",
            "activation_15 (Activation)      (None, 8, 8, 64)     0           batch_normalization_15[0][0]     \n",
            "__________________________________________________________________________________________________\n",
            "conv2d_21 (Conv2D)              (None, 8, 8, 64)     36928       activation_15[0][0]              \n",
            "__________________________________________________________________________________________________\n",
            "batch_normalization_16 (BatchNo (None, 8, 8, 64)     256         conv2d_21[0][0]                  \n",
            "__________________________________________________________________________________________________\n",
            "conv2d_22 (Conv2D)              (None, 8, 8, 64)     2112        add_6[0][0]                      \n",
            "__________________________________________________________________________________________________\n",
            "activation_16 (Activation)      (None, 8, 8, 64)     0           batch_normalization_16[0][0]     \n",
            "__________________________________________________________________________________________________\n",
            "add_7 (Add)                     (None, 8, 8, 64)     0           conv2d_22[0][0]                  \n",
            "                                                                 activation_16[0][0]              \n",
            "__________________________________________________________________________________________________\n",
            "conv2d_23 (Conv2D)              (None, 4, 4, 128)    73856       add_7[0][0]                      \n",
            "__________________________________________________________________________________________________\n",
            "batch_normalization_17 (BatchNo (None, 4, 4, 128)    512         conv2d_23[0][0]                  \n",
            "__________________________________________________________________________________________________\n",
            "activation_17 (Activation)      (None, 4, 4, 128)    0           batch_normalization_17[0][0]     \n",
            "__________________________________________________________________________________________________\n",
            "conv2d_24 (Conv2D)              (None, 4, 4, 128)    147584      activation_17[0][0]              \n",
            "__________________________________________________________________________________________________\n",
            "batch_normalization_18 (BatchNo (None, 4, 4, 128)    512         conv2d_24[0][0]                  \n",
            "__________________________________________________________________________________________________\n",
            "conv2d_25 (Conv2D)              (None, 4, 4, 128)    8320        add_7[0][0]                      \n",
            "__________________________________________________________________________________________________\n",
            "activation_18 (Activation)      (None, 4, 4, 128)    0           batch_normalization_18[0][0]     \n",
            "__________________________________________________________________________________________________\n",
            "add_8 (Add)                     (None, 4, 4, 128)    0           conv2d_25[0][0]                  \n",
            "                                                                 activation_18[0][0]              \n",
            "__________________________________________________________________________________________________\n",
            "conv2d_26 (Conv2D)              (None, 4, 4, 10)     1290        add_8[0][0]                      \n",
            "__________________________________________________________________________________________________\n",
            "global_average_pooling2d_2 (Glo (None, 10)           0           conv2d_26[0][0]                  \n",
            "__________________________________________________________________________________________________\n",
            "dense_2 (Dense)                 (None, 10)           110         global_average_pooling2d_2[0][0] \n",
            "==================================================================================================\n",
            "Total params: 310,200\n",
            "Trainable params: 309,208\n",
            "Non-trainable params: 992\n",
            "__________________________________________________________________________________________________\n"
          ],
          "name": "stdout"
        }
      ]
    },
    {
      "cell_type": "code",
      "metadata": {
        "id": "p8U6TW8DrMSA",
        "colab_type": "code",
        "colab": {}
      },
      "source": [
        "# Prepare model model saving directory.\n",
        "save_dir = os.path.join(os.getcwd(), 'saved_models')\n",
        "model_name = 'cifar10_resnet_model.h5'\n",
        "if not os.path.isdir(save_dir):\n",
        "    os.makedirs(save_dir)\n",
        "filepath = os.path.join(save_dir, model_name)\n",
        "\n",
        "# Prepare callbacks for model saving and for learning rate decaying.\n",
        "checkpoint = ModelCheckpoint(filepath=filepath,\n",
        "                             verbose=1,\n",
        "                             save_best_only=True)\n",
        "lr_reducer = ReduceLROnPlateau(factor=np.sqrt(0.1),\n",
        "                               cooldown=0,\n",
        "                               patience=5,\n",
        "                               min_lr=0.5e-6)\n",
        "callbacks = [checkpoint, lr_reducer]"
      ],
      "execution_count": 0,
      "outputs": []
    },
    {
      "cell_type": "code",
      "metadata": {
        "id": "0743NwHU1eSe",
        "colab_type": "code",
        "outputId": "c0e5645d-1814-42a8-f195-563cf43a80d0",
        "colab": {
          "base_uri": "https://localhost:8080/",
          "height": 34
        }
      },
      "source": [
        "# Run training, with or without data augmentation.\n",
        "if not data_augmentation:\n",
        "    print('Not using data augmentation.')\n",
        "    model.fit(x_train, y_train,\n",
        "              batch_size=batch_size,\n",
        "              epochs=epochs,\n",
        "              validation_data=(x_test, y_test),\n",
        "              shuffle=True,\n",
        "              callbacks=callbacks)\n",
        "else:\n",
        "    print('Using real-time data augmentation.')\n",
        "    # This will do preprocessing and realtime data augmentation:\n",
        "    datagen = ImageDataGenerator(\n",
        "        featurewise_center=False,  # set input mean to 0 over the dataset\n",
        "        samplewise_center=False,  # set each sample mean to 0\n",
        "        featurewise_std_normalization=False,  # divide inputs by std of the dataset\n",
        "        samplewise_std_normalization=False,  # divide each input by its std\n",
        "        zca_whitening=False,  # apply ZCA whitening\n",
        "        rotation_range=0,  # randomly rotate images in the range (degrees, 0 to 180)\n",
        "        width_shift_range=0.1,  # randomly shift images horizontally (fraction of total width)\n",
        "        height_shift_range=0.1,  # randomly shift images vertically (fraction of total height)\n",
        "        horizontal_flip=True,  # randomly flip images\n",
        "        vertical_flip=False,  # randomly flip images\n",
        "        preprocessing_function= None)\n"
      ],
      "execution_count": 0,
      "outputs": [
        {
          "output_type": "stream",
          "text": [
            "Using real-time data augmentation.\n"
          ],
          "name": "stdout"
        }
      ]
    },
    {
      "cell_type": "code",
      "metadata": {
        "id": "a6CID1kL1s8c",
        "colab_type": "code",
        "outputId": "78fc4ff7-69e5-4fef-cb9d-f1e3251975d4",
        "colab": {
          "base_uri": "https://localhost:8080/",
          "height": 1000
        }
      },
      "source": [
        " # Compute quantities required for featurewise normalization\n",
        "    # (std, mean, and principal components if ZCA whitening is applied).\n",
        "    datagen.fit(x_train)\n",
        "\n",
        "    # Fit the model on the batches generated by datagen.flow().\n",
        "    model.fit_generator(datagen.flow(x_train, y_train, batch_size=batch_size),\n",
        "                      \n",
        "                        validation_data=(x_test, y_test),\n",
        "                        epochs=epochs, verbose=1, workers=4,\n",
        "                        callbacks=callbacks)"
      ],
      "execution_count": 0,
      "outputs": [
        {
          "output_type": "stream",
          "text": [
            "WARNING:tensorflow:From /usr/local/lib/python3.6/dist-packages/tensorflow_core/python/ops/math_grad.py:1424: where (from tensorflow.python.ops.array_ops) is deprecated and will be removed in a future version.\n",
            "Instructions for updating:\n",
            "Use tf.where in 2.0, which has the same broadcast rule as np.where\n",
            "WARNING:tensorflow:From /usr/local/lib/python3.6/dist-packages/keras/backend/tensorflow_backend.py:1033: The name tf.assign_add is deprecated. Please use tf.compat.v1.assign_add instead.\n",
            "\n",
            "WARNING:tensorflow:From /usr/local/lib/python3.6/dist-packages/keras/backend/tensorflow_backend.py:1020: The name tf.assign is deprecated. Please use tf.compat.v1.assign instead.\n",
            "\n",
            "Epoch 1/50\n",
            "1563/1563 [==============================] - 80s 51ms/step - loss: 1.7088 - acc: 0.4441 - val_loss: 1.5288 - val_acc: 0.5045\n",
            "\n",
            "Epoch 00001: val_loss improved from inf to 1.52876, saving model to /content/saved_models/cifar10_resnet_model.h5\n",
            "Epoch 2/50\n",
            "1563/1563 [==============================] - 70s 45ms/step - loss: 1.3268 - acc: 0.5803 - val_loss: 1.4223 - val_acc: 0.5622\n",
            "\n",
            "Epoch 00002: val_loss improved from 1.52876 to 1.42232, saving model to /content/saved_models/cifar10_resnet_model.h5\n",
            "Epoch 3/50\n",
            "1563/1563 [==============================] - 70s 45ms/step - loss: 1.1471 - acc: 0.6448 - val_loss: 1.1014 - val_acc: 0.6637\n",
            "\n",
            "Epoch 00003: val_loss improved from 1.42232 to 1.10136, saving model to /content/saved_models/cifar10_resnet_model.h5\n",
            "Epoch 4/50\n",
            "1563/1563 [==============================] - 70s 45ms/step - loss: 1.0389 - acc: 0.6883 - val_loss: 1.3574 - val_acc: 0.6096\n",
            "\n",
            "Epoch 00004: val_loss did not improve from 1.10136\n",
            "Epoch 5/50\n",
            "1563/1563 [==============================] - 70s 45ms/step - loss: 0.9584 - acc: 0.7209 - val_loss: 1.1994 - val_acc: 0.6655\n",
            "\n",
            "Epoch 00005: val_loss did not improve from 1.10136\n",
            "Epoch 6/50\n",
            "1563/1563 [==============================] - 70s 45ms/step - loss: 0.9082 - acc: 0.7404 - val_loss: 0.9130 - val_acc: 0.7474\n",
            "\n",
            "Epoch 00006: val_loss improved from 1.10136 to 0.91295, saving model to /content/saved_models/cifar10_resnet_model.h5\n",
            "Epoch 7/50\n",
            "1563/1563 [==============================] - 71s 46ms/step - loss: 0.8637 - acc: 0.7582 - val_loss: 1.1945 - val_acc: 0.6888\n",
            "\n",
            "Epoch 00007: val_loss did not improve from 0.91295\n",
            "Epoch 8/50\n",
            "1563/1563 [==============================] - 70s 45ms/step - loss: 0.8316 - acc: 0.7680 - val_loss: 0.9819 - val_acc: 0.7215\n",
            "\n",
            "Epoch 00008: val_loss did not improve from 0.91295\n",
            "Epoch 9/50\n",
            "1563/1563 [==============================] - 70s 45ms/step - loss: 0.8071 - acc: 0.7787 - val_loss: 0.8677 - val_acc: 0.7599\n",
            "\n",
            "Epoch 00009: val_loss improved from 0.91295 to 0.86766, saving model to /content/saved_models/cifar10_resnet_model.h5\n",
            "Epoch 10/50\n",
            "1563/1563 [==============================] - 70s 45ms/step - loss: 0.7822 - acc: 0.7888 - val_loss: 0.8952 - val_acc: 0.7669\n",
            "\n",
            "Epoch 00010: val_loss did not improve from 0.86766\n",
            "Epoch 11/50\n",
            "1563/1563 [==============================] - 69s 44ms/step - loss: 0.7672 - acc: 0.7935 - val_loss: 0.8380 - val_acc: 0.7780\n",
            "\n",
            "Epoch 00011: val_loss improved from 0.86766 to 0.83796, saving model to /content/saved_models/cifar10_resnet_model.h5\n",
            "Epoch 12/50\n",
            "1563/1563 [==============================] - 70s 45ms/step - loss: 0.7462 - acc: 0.8032 - val_loss: 0.9152 - val_acc: 0.7543\n",
            "\n",
            "Epoch 00012: val_loss did not improve from 0.83796\n",
            "Epoch 13/50\n",
            "1563/1563 [==============================] - 70s 45ms/step - loss: 0.7360 - acc: 0.8046 - val_loss: 0.7920 - val_acc: 0.7970\n",
            "\n",
            "Epoch 00013: val_loss improved from 0.83796 to 0.79201, saving model to /content/saved_models/cifar10_resnet_model.h5\n",
            "Epoch 14/50\n",
            "1563/1563 [==============================] - 70s 45ms/step - loss: 0.7237 - acc: 0.8095 - val_loss: 0.8756 - val_acc: 0.7724\n",
            "\n",
            "Epoch 00014: val_loss did not improve from 0.79201\n",
            "Epoch 15/50\n",
            "1563/1563 [==============================] - 70s 45ms/step - loss: 0.7095 - acc: 0.8158 - val_loss: 0.8474 - val_acc: 0.7796\n",
            "\n",
            "Epoch 00015: val_loss did not improve from 0.79201\n",
            "Epoch 16/50\n",
            "1563/1563 [==============================] - 70s 45ms/step - loss: 0.6999 - acc: 0.8198 - val_loss: 0.9747 - val_acc: 0.7416\n",
            "\n",
            "Epoch 00016: val_loss did not improve from 0.79201\n",
            "Epoch 17/50\n",
            "1563/1563 [==============================] - 69s 44ms/step - loss: 0.6984 - acc: 0.8201 - val_loss: 1.0813 - val_acc: 0.7273\n",
            "\n",
            "Epoch 00017: val_loss did not improve from 0.79201\n",
            "Epoch 18/50\n",
            "1563/1563 [==============================] - 71s 45ms/step - loss: 0.6835 - acc: 0.8274 - val_loss: 0.7659 - val_acc: 0.8011\n",
            "\n",
            "Epoch 00018: val_loss improved from 0.79201 to 0.76595, saving model to /content/saved_models/cifar10_resnet_model.h5\n",
            "Epoch 19/50\n",
            "1563/1563 [==============================] - 70s 45ms/step - loss: 0.6773 - acc: 0.8291 - val_loss: 0.9317 - val_acc: 0.7622\n",
            "\n",
            "Epoch 00019: val_loss did not improve from 0.76595\n",
            "Epoch 20/50\n",
            "1563/1563 [==============================] - 70s 45ms/step - loss: 0.6683 - acc: 0.8337 - val_loss: 0.7741 - val_acc: 0.8060\n",
            "\n",
            "Epoch 00020: val_loss did not improve from 0.76595\n",
            "Epoch 21/50\n",
            "1563/1563 [==============================] - 71s 45ms/step - loss: 0.6673 - acc: 0.8319 - val_loss: 0.7684 - val_acc: 0.8030\n",
            "\n",
            "Epoch 00021: val_loss did not improve from 0.76595\n",
            "Epoch 22/50\n",
            "1563/1563 [==============================] - 71s 45ms/step - loss: 0.6607 - acc: 0.8375 - val_loss: 1.0171 - val_acc: 0.7397\n",
            "\n",
            "Epoch 00022: val_loss did not improve from 0.76595\n",
            "Epoch 23/50\n",
            "1563/1563 [==============================] - 70s 45ms/step - loss: 0.6499 - acc: 0.8395 - val_loss: 1.0392 - val_acc: 0.7366\n",
            "\n",
            "Epoch 00023: val_loss did not improve from 0.76595\n",
            "Epoch 24/50\n",
            "1563/1563 [==============================] - 72s 46ms/step - loss: 0.5617 - acc: 0.8690 - val_loss: 0.6718 - val_acc: 0.8338\n",
            "\n",
            "Epoch 00024: val_loss improved from 0.76595 to 0.67181, saving model to /content/saved_models/cifar10_resnet_model.h5\n",
            "Epoch 25/50\n",
            "1563/1563 [==============================] - 70s 45ms/step - loss: 0.5282 - acc: 0.8774 - val_loss: 0.6149 - val_acc: 0.8470\n",
            "\n",
            "Epoch 00025: val_loss improved from 0.67181 to 0.61491, saving model to /content/saved_models/cifar10_resnet_model.h5\n",
            "Epoch 26/50\n",
            "1563/1563 [==============================] - 70s 45ms/step - loss: 0.5167 - acc: 0.8788 - val_loss: 0.6140 - val_acc: 0.8474\n",
            "\n",
            "Epoch 00026: val_loss improved from 0.61491 to 0.61396, saving model to /content/saved_models/cifar10_resnet_model.h5\n",
            "Epoch 27/50\n",
            "1563/1563 [==============================] - 72s 46ms/step - loss: 0.4965 - acc: 0.8836 - val_loss: 0.6065 - val_acc: 0.8503\n",
            "\n",
            "Epoch 00027: val_loss improved from 0.61396 to 0.60651, saving model to /content/saved_models/cifar10_resnet_model.h5\n",
            "Epoch 28/50\n",
            "1563/1563 [==============================] - 70s 45ms/step - loss: 0.4866 - acc: 0.8849 - val_loss: 0.5853 - val_acc: 0.8572\n",
            "\n",
            "Epoch 00028: val_loss improved from 0.60651 to 0.58528, saving model to /content/saved_models/cifar10_resnet_model.h5\n",
            "Epoch 29/50\n",
            "1563/1563 [==============================] - 70s 45ms/step - loss: 0.4728 - acc: 0.8886 - val_loss: 0.5908 - val_acc: 0.8543\n",
            "\n",
            "Epoch 00029: val_loss did not improve from 0.58528\n",
            "Epoch 30/50\n",
            "1563/1563 [==============================] - 71s 46ms/step - loss: 0.4696 - acc: 0.8893 - val_loss: 0.6291 - val_acc: 0.8445\n",
            "\n",
            "Epoch 00030: val_loss did not improve from 0.58528\n",
            "Epoch 31/50\n",
            "1563/1563 [==============================] - 70s 45ms/step - loss: 0.4566 - acc: 0.8924 - val_loss: 0.5839 - val_acc: 0.8567\n",
            "\n",
            "Epoch 00031: val_loss improved from 0.58528 to 0.58392, saving model to /content/saved_models/cifar10_resnet_model.h5\n",
            "Epoch 32/50\n",
            "1563/1563 [==============================] - 70s 45ms/step - loss: 0.4533 - acc: 0.8925 - val_loss: 0.5656 - val_acc: 0.8603\n",
            "\n",
            "Epoch 00032: val_loss improved from 0.58392 to 0.56563, saving model to /content/saved_models/cifar10_resnet_model.h5\n",
            "Epoch 33/50\n",
            "1563/1563 [==============================] - 71s 45ms/step - loss: 0.4467 - acc: 0.8948 - val_loss: 0.5972 - val_acc: 0.8516\n",
            "\n",
            "Epoch 00033: val_loss did not improve from 0.56563\n",
            "Epoch 34/50\n",
            "1563/1563 [==============================] - 70s 45ms/step - loss: 0.4446 - acc: 0.8933 - val_loss: 0.6073 - val_acc: 0.8453\n",
            "\n",
            "Epoch 00034: val_loss did not improve from 0.56563\n",
            "Epoch 35/50\n",
            "1563/1563 [==============================] - 71s 45ms/step - loss: 0.4374 - acc: 0.8958 - val_loss: 0.5548 - val_acc: 0.8614\n",
            "\n",
            "Epoch 00035: val_loss improved from 0.56563 to 0.55477, saving model to /content/saved_models/cifar10_resnet_model.h5\n",
            "Epoch 36/50\n",
            "1563/1563 [==============================] - 71s 45ms/step - loss: 0.4309 - acc: 0.8979 - val_loss: 0.5780 - val_acc: 0.8573\n",
            "\n",
            "Epoch 00036: val_loss did not improve from 0.55477\n",
            "Epoch 37/50\n",
            "1563/1563 [==============================] - 70s 45ms/step - loss: 0.4276 - acc: 0.8982 - val_loss: 0.5957 - val_acc: 0.8527\n",
            "\n",
            "Epoch 00037: val_loss did not improve from 0.55477\n",
            "Epoch 38/50\n",
            "1563/1563 [==============================] - 70s 45ms/step - loss: 0.4202 - acc: 0.8990 - val_loss: 0.5844 - val_acc: 0.8535\n",
            "\n",
            "Epoch 00038: val_loss did not improve from 0.55477\n",
            "Epoch 39/50\n",
            "1563/1563 [==============================] - 70s 45ms/step - loss: 0.4205 - acc: 0.8987 - val_loss: 0.5665 - val_acc: 0.8588\n",
            "\n",
            "Epoch 00039: val_loss did not improve from 0.55477\n",
            "Epoch 40/50\n",
            "1563/1563 [==============================] - 69s 44ms/step - loss: 0.4148 - acc: 0.9002 - val_loss: 0.5736 - val_acc: 0.8588\n",
            "\n",
            "Epoch 00040: val_loss did not improve from 0.55477\n",
            "Epoch 41/50\n",
            "1563/1563 [==============================] - 74s 47ms/step - loss: 0.3780 - acc: 0.9135 - val_loss: 0.5067 - val_acc: 0.8757\n",
            "\n",
            "Epoch 00041: val_loss improved from 0.55477 to 0.50667, saving model to /content/saved_models/cifar10_resnet_model.h5\n",
            "Epoch 42/50\n",
            "1563/1563 [==============================] - 72s 46ms/step - loss: 0.3657 - acc: 0.9192 - val_loss: 0.5076 - val_acc: 0.8763\n",
            "\n",
            "Epoch 00042: val_loss did not improve from 0.50667\n",
            "Epoch 43/50\n",
            "1563/1563 [==============================] - 71s 45ms/step - loss: 0.3587 - acc: 0.9200 - val_loss: 0.5114 - val_acc: 0.8744\n",
            "\n",
            "Epoch 00043: val_loss did not improve from 0.50667\n",
            "Epoch 44/50\n",
            "1563/1563 [==============================] - 71s 46ms/step - loss: 0.3517 - acc: 0.9217 - val_loss: 0.4971 - val_acc: 0.8790\n",
            "\n",
            "Epoch 00044: val_loss improved from 0.50667 to 0.49709, saving model to /content/saved_models/cifar10_resnet_model.h5\n",
            "Epoch 45/50\n",
            "1563/1563 [==============================] - 70s 45ms/step - loss: 0.3461 - acc: 0.9238 - val_loss: 0.4989 - val_acc: 0.8785\n",
            "\n",
            "Epoch 00045: val_loss did not improve from 0.49709\n",
            "Epoch 46/50\n",
            "1563/1563 [==============================] - 73s 46ms/step - loss: 0.3418 - acc: 0.9253 - val_loss: 0.5082 - val_acc: 0.8766\n",
            "\n",
            "Epoch 00046: val_loss did not improve from 0.49709\n",
            "Epoch 47/50\n",
            "1563/1563 [==============================] - 73s 47ms/step - loss: 0.3396 - acc: 0.9252 - val_loss: 0.5095 - val_acc: 0.8788\n",
            "\n",
            "Epoch 00047: val_loss did not improve from 0.49709\n",
            "Epoch 48/50\n",
            "1563/1563 [==============================] - 70s 45ms/step - loss: 0.3346 - acc: 0.9264 - val_loss: 0.5038 - val_acc: 0.8772\n",
            "\n",
            "Epoch 00048: val_loss did not improve from 0.49709\n",
            "Epoch 49/50\n",
            "1563/1563 [==============================] - 70s 45ms/step - loss: 0.3343 - acc: 0.9262 - val_loss: 0.5042 - val_acc: 0.8796\n",
            "\n",
            "Epoch 00049: val_loss did not improve from 0.49709\n",
            "Epoch 50/50\n",
            "1563/1563 [==============================] - 71s 45ms/step - loss: 0.3181 - acc: 0.9317 - val_loss: 0.4934 - val_acc: 0.8814\n",
            "\n",
            "Epoch 00050: val_loss improved from 0.49709 to 0.49342, saving model to /content/saved_models/cifar10_resnet_model.h5\n"
          ],
          "name": "stdout"
        },
        {
          "output_type": "execute_result",
          "data": {
            "text/plain": [
              "<keras.callbacks.History at 0x7fec85ffd278>"
            ]
          },
          "metadata": {
            "tags": []
          },
          "execution_count": 12
        }
      ]
    },
    {
      "cell_type": "code",
      "metadata": {
        "id": "ngwHG5d51jI0",
        "colab_type": "code",
        "outputId": "b26aec0e-a1c0-4c60-fb86-e9374a9aacce",
        "colab": {
          "base_uri": "https://localhost:8080/",
          "height": 68
        }
      },
      "source": [
        "score = model.evaluate(x_test,y_test,verbose = 1)\n",
        "print('Test Accuracy : ', score[1])\n",
        "print('Test Loss : ', score[0])"
      ],
      "execution_count": 0,
      "outputs": [
        {
          "output_type": "stream",
          "text": [
            "10000/10000 [==============================] - 3s 269us/step\n",
            "Test Accuracy :  0.8814\n",
            "Test Loss :  0.4934192685604095\n"
          ],
          "name": "stdout"
        }
      ]
    }
  ]
}